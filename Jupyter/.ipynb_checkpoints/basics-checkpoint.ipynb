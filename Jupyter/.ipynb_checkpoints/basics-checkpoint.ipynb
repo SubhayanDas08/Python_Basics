{
 "cells": [
  {
   "cell_type": "code",
   "execution_count": 17,
   "id": "future-month",
   "metadata": {},
   "outputs": [
    {
     "data": {
      "text/plain": [
       "int"
      ]
     },
     "execution_count": 17,
     "metadata": {},
     "output_type": "execute_result"
    }
   ],
   "source": [
    "x = 100\n",
    "type(x)"
   ]
  },
  {
   "cell_type": "code",
   "execution_count": 18,
   "id": "arctic-missouri",
   "metadata": {},
   "outputs": [
    {
     "data": {
      "text/plain": [
       "float"
      ]
     },
     "execution_count": 18,
     "metadata": {},
     "output_type": "execute_result"
    }
   ],
   "source": [
    "y = 3.14\n",
    "type(y)"
   ]
  },
  {
   "cell_type": "code",
   "execution_count": 19,
   "id": "gothic-compression",
   "metadata": {},
   "outputs": [
    {
     "data": {
      "text/plain": [
       "str"
      ]
     },
     "execution_count": 19,
     "metadata": {},
     "output_type": "execute_result"
    }
   ],
   "source": [
    "z = \"Hello\"\n",
    "type(z)"
   ]
  },
  {
   "cell_type": "code",
   "execution_count": 20,
   "id": "after-schema",
   "metadata": {},
   "outputs": [
    {
     "data": {
      "text/plain": [
       "list"
      ]
     },
     "execution_count": 20,
     "metadata": {},
     "output_type": "execute_result"
    }
   ],
   "source": [
    "#Lists\n",
    "x = [1,2,4,5,6,7]\n",
    "type(x)"
   ]
  },
  {
   "cell_type": "code",
   "execution_count": 21,
   "id": "excellent-projector",
   "metadata": {},
   "outputs": [
    {
     "name": "stdout",
     "output_type": "stream",
     "text": [
      "5\n"
     ]
    }
   ],
   "source": [
    "print(x[3])\n",
    "x[1]=1"
   ]
  },
  {
   "cell_type": "code",
   "execution_count": 22,
   "id": "closing-castle",
   "metadata": {},
   "outputs": [
    {
     "data": {
      "text/plain": [
       "tuple"
      ]
     },
     "execution_count": 22,
     "metadata": {},
     "output_type": "execute_result"
    }
   ],
   "source": [
    "#Tuples\n",
    "x = (25,64,32)\n",
    "type(x)"
   ]
  },
  {
   "cell_type": "code",
   "execution_count": 23,
   "id": "spectacular-enforcement",
   "metadata": {},
   "outputs": [
    {
     "name": "stdout",
     "output_type": "stream",
     "text": [
      "64\n"
     ]
    }
   ],
   "source": [
    "print(x[1])"
   ]
  },
  {
   "cell_type": "code",
   "execution_count": 24,
   "id": "dated-lodging",
   "metadata": {},
   "outputs": [],
   "source": [
    "#we cant change values of tuples\n",
    "#x[1]=1"
   ]
  },
  {
   "cell_type": "code",
   "execution_count": 25,
   "id": "hidden-coordinate",
   "metadata": {},
   "outputs": [],
   "source": [
    "x = open('Hello_world.ipynb', 'r')"
   ]
  },
  {
   "cell_type": "code",
   "execution_count": 26,
   "id": "secondary-appearance",
   "metadata": {},
   "outputs": [
    {
     "data": {
      "text/plain": [
       "_io.TextIOWrapper"
      ]
     },
     "execution_count": 26,
     "metadata": {},
     "output_type": "execute_result"
    }
   ],
   "source": [
    "type(x)"
   ]
  },
  {
   "cell_type": "code",
   "execution_count": 28,
   "id": "dense-astronomy",
   "metadata": {},
   "outputs": [],
   "source": [
    "#Assignment of variables\n",
    "(x,y,z)=1,2,3"
   ]
  },
  {
   "cell_type": "code",
   "execution_count": 29,
   "id": "active-ending",
   "metadata": {},
   "outputs": [
    {
     "name": "stdout",
     "output_type": "stream",
     "text": [
      "1 2 3\n"
     ]
    }
   ],
   "source": [
    "print(x,y,z)"
   ]
  },
  {
   "cell_type": "code",
   "execution_count": 30,
   "id": "limiting-catalyst",
   "metadata": {},
   "outputs": [],
   "source": [
    "#STRING OPERATIONS\n",
    "\n",
    "var = \"Subhayan Das\""
   ]
  },
  {
   "cell_type": "code",
   "execution_count": 31,
   "id": "rubber-camping",
   "metadata": {},
   "outputs": [
    {
     "name": "stdout",
     "output_type": "stream",
     "text": [
      "S\n"
     ]
    }
   ],
   "source": [
    "print(var[0])"
   ]
  },
  {
   "cell_type": "code",
   "execution_count": 33,
   "id": "happy-credits",
   "metadata": {},
   "outputs": [
    {
     "name": "stdout",
     "output_type": "stream",
     "text": [
      "Subh\n"
     ]
    }
   ],
   "source": [
    "print(var[:4])"
   ]
  },
  {
   "cell_type": "code",
   "execution_count": 35,
   "id": "whole-document",
   "metadata": {},
   "outputs": [
    {
     "name": "stdout",
     "output_type": "stream",
     "text": [
      "Das\n"
     ]
    }
   ],
   "source": [
    "print(var[9:])"
   ]
  },
  {
   "cell_type": "code",
   "execution_count": 36,
   "id": "smaller-macro",
   "metadata": {},
   "outputs": [
    {
     "data": {
      "text/plain": [
       "12"
      ]
     },
     "execution_count": 36,
     "metadata": {},
     "output_type": "execute_result"
    }
   ],
   "source": [
    "len(var)"
   ]
  },
  {
   "cell_type": "code",
   "execution_count": 37,
   "id": "iraqi-worth",
   "metadata": {},
   "outputs": [],
   "source": [
    "#COMPLEX NUMBERS\n",
    "\n",
    "num = 2+9j\n"
   ]
  },
  {
   "cell_type": "code",
   "execution_count": 38,
   "id": "minus-landscape",
   "metadata": {},
   "outputs": [
    {
     "data": {
      "text/plain": [
       "2.0"
      ]
     },
     "execution_count": 38,
     "metadata": {},
     "output_type": "execute_result"
    }
   ],
   "source": [
    "num.real"
   ]
  },
  {
   "cell_type": "code",
   "execution_count": 39,
   "id": "convinced-scientist",
   "metadata": {},
   "outputs": [
    {
     "data": {
      "text/plain": [
       "9.0"
      ]
     },
     "execution_count": 39,
     "metadata": {},
     "output_type": "execute_result"
    }
   ],
   "source": [
    "num.imag"
   ]
  },
  {
   "cell_type": "code",
   "execution_count": 7,
   "id": "spiritual-attachment",
   "metadata": {},
   "outputs": [
    {
     "data": {
      "text/plain": [
       "tuple"
      ]
     },
     "execution_count": 7,
     "metadata": {},
     "output_type": "execute_result"
    }
   ],
   "source": [
    "#Tuples\n",
    "emp = ()\n",
    "type(emp)"
   ]
  },
  {
   "cell_type": "code",
   "execution_count": 8,
   "id": "final-force",
   "metadata": {},
   "outputs": [
    {
     "name": "stdout",
     "output_type": "stream",
     "text": [
      "()\n",
      "('Ram', 'Sham', 'Subh', 'lakhan')\n"
     ]
    }
   ],
   "source": [
    "print(emp)\n",
    "emp = \"Ram\",\"Sham\",\"Subh\"\n",
    "emp = (\"Ram\",\"Sham\",\"Subh\",\"lakhan\")\n",
    "print(emp)"
   ]
  },
  {
   "cell_type": "code",
   "execution_count": 9,
   "id": "personal-wireless",
   "metadata": {},
   "outputs": [],
   "source": [
    "#diff bw tuple and list\n",
    "Lists can be edited later on too but tuples cant be edited once after declaring\n",
    "\n",
    "list = [1,2,3,4,5]\n",
    "tuple1 = (1,2,3,4,5)"
   ]
  },
  {
   "cell_type": "code",
   "execution_count": 10,
   "id": "front-regression",
   "metadata": {},
   "outputs": [
    {
     "name": "stdout",
     "output_type": "stream",
     "text": [
      "[1, 2, 3, 4, 5, 6]\n"
     ]
    }
   ],
   "source": [
    "list.append(6)\n",
    "print(list)"
   ]
  },
  {
   "cell_type": "code",
   "execution_count": 14,
   "id": "adequate-newcastle",
   "metadata": {},
   "outputs": [
    {
     "name": "stdout",
     "output_type": "stream",
     "text": [
      "(1, 2, 3, 4, 5)\n"
     ]
    }
   ],
   "source": [
    "#tuple1.append(6)\n",
    "print(tuple1)"
   ]
  },
  {
   "cell_type": "code",
   "execution_count": 16,
   "id": "environmental-detail",
   "metadata": {},
   "outputs": [
    {
     "name": "stdout",
     "output_type": "stream",
     "text": [
      "('Python', 'Python', 'Python', 'Python', 'Python', 'Python', 'Python', 'Python', 'Python', 'Python')\n"
     ]
    }
   ],
   "source": [
    "#Repition in tuple\n",
    "rep = (\"Python\", )*10\n",
    "\n",
    "print(rep)"
   ]
  },
  {
   "cell_type": "code",
   "execution_count": null,
   "id": "quality-definition",
   "metadata": {},
   "outputs": [],
   "source": [
    "#not modifying\n",
    "rep = (\"Python\", )\n",
    "\n",
    "print(rep*10)"
   ]
  }
 ],
 "metadata": {
  "kernelspec": {
   "display_name": "Python 3",
   "language": "python",
   "name": "python3"
  },
  "language_info": {
   "codemirror_mode": {
    "name": "ipython",
    "version": 3
   },
   "file_extension": ".py",
   "mimetype": "text/x-python",
   "name": "python",
   "nbconvert_exporter": "python",
   "pygments_lexer": "ipython3",
   "version": "3.8.10"
  }
 },
 "nbformat": 4,
 "nbformat_minor": 5
}
