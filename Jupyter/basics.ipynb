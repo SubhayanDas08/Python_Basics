{
 "cells": [
  {
   "cell_type": "code",
   "execution_count": 17,
   "id": "continuous-advisory",
   "metadata": {},
   "outputs": [
    {
     "data": {
      "text/plain": [
       "int"
      ]
     },
     "execution_count": 17,
     "metadata": {},
     "output_type": "execute_result"
    }
   ],
   "source": [
    "x = 100\n",
    "type(x)"
   ]
  },
  {
   "cell_type": "code",
   "execution_count": 18,
   "id": "global-conviction",
   "metadata": {},
   "outputs": [
    {
     "data": {
      "text/plain": [
       "float"
      ]
     },
     "execution_count": 18,
     "metadata": {},
     "output_type": "execute_result"
    }
   ],
   "source": [
    "y = 3.14\n",
    "type(y)"
   ]
  },
  {
   "cell_type": "code",
   "execution_count": 19,
   "id": "contrary-berry",
   "metadata": {},
   "outputs": [
    {
     "data": {
      "text/plain": [
       "str"
      ]
     },
     "execution_count": 19,
     "metadata": {},
     "output_type": "execute_result"
    }
   ],
   "source": [
    "z = \"Hello\"\n",
    "type(z)"
   ]
  },
  {
   "cell_type": "code",
   "execution_count": 20,
   "id": "earned-chart",
   "metadata": {},
   "outputs": [
    {
     "data": {
      "text/plain": [
       "list"
      ]
     },
     "execution_count": 20,
     "metadata": {},
     "output_type": "execute_result"
    }
   ],
   "source": [
    "#Lists\n",
    "x = [1,2,4,5,6,7]\n",
    "type(x)"
   ]
  },
  {
   "cell_type": "code",
   "execution_count": 21,
   "id": "ultimate-story",
   "metadata": {},
   "outputs": [
    {
     "name": "stdout",
     "output_type": "stream",
     "text": [
      "5\n"
     ]
    }
   ],
   "source": [
    "print(x[3])\n",
    "x[1]=1"
   ]
  },
  {
   "cell_type": "code",
   "execution_count": 22,
   "id": "subjective-booking",
   "metadata": {},
   "outputs": [
    {
     "data": {
      "text/plain": [
       "tuple"
      ]
     },
     "execution_count": 22,
     "metadata": {},
     "output_type": "execute_result"
    }
   ],
   "source": [
    "#Tuples\n",
    "x = (25,64,32)\n",
    "type(x)"
   ]
  },
  {
   "cell_type": "code",
   "execution_count": 23,
   "id": "local-performer",
   "metadata": {},
   "outputs": [
    {
     "name": "stdout",
     "output_type": "stream",
     "text": [
      "64\n"
     ]
    }
   ],
   "source": [
    "print(x[1])"
   ]
  },
  {
   "cell_type": "code",
   "execution_count": 24,
   "id": "vital-element",
   "metadata": {},
   "outputs": [],
   "source": [
    "#we cant change values of tuples\n",
    "#x[1]=1"
   ]
  },
  {
   "cell_type": "code",
   "execution_count": 25,
   "id": "sapphire-birth",
   "metadata": {},
   "outputs": [],
   "source": [
    "x = open('Hello_world.ipynb', 'r')"
   ]
  },
  {
   "cell_type": "code",
   "execution_count": 26,
   "id": "alternate-authorization",
   "metadata": {},
   "outputs": [
    {
     "data": {
      "text/plain": [
       "_io.TextIOWrapper"
      ]
     },
     "execution_count": 26,
     "metadata": {},
     "output_type": "execute_result"
    }
   ],
   "source": [
    "type(x)"
   ]
  },
  {
   "cell_type": "code",
   "execution_count": 28,
   "id": "sapphire-tractor",
   "metadata": {},
   "outputs": [],
   "source": [
    "#Assignment of variables\n",
    "(x,y,z)=1,2,3"
   ]
  },
  {
   "cell_type": "code",
   "execution_count": 29,
   "id": "nearby-observation",
   "metadata": {},
   "outputs": [
    {
     "name": "stdout",
     "output_type": "stream",
     "text": [
      "1 2 3\n"
     ]
    }
   ],
   "source": [
    "print(x,y,z)"
   ]
  },
  {
   "cell_type": "code",
   "execution_count": 30,
   "id": "prospective-pixel",
   "metadata": {},
   "outputs": [],
   "source": [
    "#STRING OPERATIONS\n",
    "\n",
    "var = \"Subhayan Das\""
   ]
  },
  {
   "cell_type": "code",
   "execution_count": 31,
   "id": "capital-sudan",
   "metadata": {},
   "outputs": [
    {
     "name": "stdout",
     "output_type": "stream",
     "text": [
      "S\n"
     ]
    }
   ],
   "source": [
    "print(var[0])"
   ]
  },
  {
   "cell_type": "code",
   "execution_count": 33,
   "id": "expected-layer",
   "metadata": {},
   "outputs": [
    {
     "name": "stdout",
     "output_type": "stream",
     "text": [
      "Subh\n"
     ]
    }
   ],
   "source": [
    "print(var[:4])"
   ]
  },
  {
   "cell_type": "code",
   "execution_count": 35,
   "id": "sized-sport",
   "metadata": {},
   "outputs": [
    {
     "name": "stdout",
     "output_type": "stream",
     "text": [
      "Das\n"
     ]
    }
   ],
   "source": [
    "print(var[9:])"
   ]
  },
  {
   "cell_type": "code",
   "execution_count": 36,
   "id": "compressed-metro",
   "metadata": {},
   "outputs": [
    {
     "data": {
      "text/plain": [
       "12"
      ]
     },
     "execution_count": 36,
     "metadata": {},
     "output_type": "execute_result"
    }
   ],
   "source": [
    "len(var)"
   ]
  },
  {
   "cell_type": "code",
   "execution_count": 37,
   "id": "amazing-google",
   "metadata": {},
   "outputs": [],
   "source": [
    "#COMPLEX NUMBERS\n",
    "\n",
    "num = 2+9j\n"
   ]
  },
  {
   "cell_type": "code",
   "execution_count": 38,
   "id": "actual-hunger",
   "metadata": {},
   "outputs": [
    {
     "data": {
      "text/plain": [
       "2.0"
      ]
     },
     "execution_count": 38,
     "metadata": {},
     "output_type": "execute_result"
    }
   ],
   "source": [
    "num.real"
   ]
  },
  {
   "cell_type": "code",
   "execution_count": 39,
   "id": "fleet-lesson",
   "metadata": {},
   "outputs": [
    {
     "data": {
      "text/plain": [
       "9.0"
      ]
     },
     "execution_count": 39,
     "metadata": {},
     "output_type": "execute_result"
    }
   ],
   "source": [
    "num.imag"
   ]
  },
  {
   "cell_type": "code",
   "execution_count": 7,
   "id": "geological-saudi",
   "metadata": {},
   "outputs": [
    {
     "data": {
      "text/plain": [
       "tuple"
      ]
     },
     "execution_count": 7,
     "metadata": {},
     "output_type": "execute_result"
    }
   ],
   "source": [
    "#Tuples\n",
    "emp = ()\n",
    "type(emp)"
   ]
  },
  {
   "cell_type": "code",
   "execution_count": 8,
   "id": "detailed-treasure",
   "metadata": {},
   "outputs": [
    {
     "name": "stdout",
     "output_type": "stream",
     "text": [
      "()\n",
      "('Ram', 'Sham', 'Subh', 'lakhan')\n"
     ]
    }
   ],
   "source": [
    "print(emp)\n",
    "emp = \"Ram\",\"Sham\",\"Subh\"\n",
    "emp = (\"Ram\",\"Sham\",\"Subh\",\"lakhan\")\n",
    "print(emp)"
   ]
  },
  {
   "cell_type": "code",
   "execution_count": 9,
   "id": "organic-policy",
   "metadata": {},
   "outputs": [],
   "source": [
    "#diff bw tuple and list\n",
    "Lists can be edited later on too but tuples cant be edited once after declaring\n",
    "\n",
    "list = [1,2,3,4,5]\n",
    "tuple1 = (1,2,3,4,5)"
   ]
  },
  {
   "cell_type": "code",
   "execution_count": 10,
   "id": "communist-circular",
   "metadata": {},
   "outputs": [
    {
     "name": "stdout",
     "output_type": "stream",
     "text": [
      "[1, 2, 3, 4, 5, 6]\n"
     ]
    }
   ],
   "source": [
    "list.append(6)\n",
    "print(list)"
   ]
  },
  {
   "cell_type": "code",
   "execution_count": 14,
   "id": "fiscal-retailer",
   "metadata": {},
   "outputs": [
    {
     "name": "stdout",
     "output_type": "stream",
     "text": [
      "(1, 2, 3, 4, 5)\n"
     ]
    }
   ],
   "source": [
    "#tuple1.append(6)\n",
    "print(tuple1)"
   ]
  },
  {
   "cell_type": "code",
   "execution_count": 16,
   "id": "pretty-substitute",
   "metadata": {},
   "outputs": [
    {
     "name": "stdout",
     "output_type": "stream",
     "text": [
      "('Python', 'Python', 'Python', 'Python', 'Python', 'Python', 'Python', 'Python', 'Python', 'Python')\n"
     ]
    }
   ],
   "source": [
    "#Repition in tuple\n",
    "rep = (\"Python\", )*10\n",
    "\n",
    "print(rep)"
   ]
  },
  {
   "cell_type": "code",
   "execution_count": 18,
   "id": "finnish-helping",
   "metadata": {},
   "outputs": [
    {
     "name": "stdout",
     "output_type": "stream",
     "text": [
      "('Python', 'Python', 'Python', 'Python', 'Python', 'Python', 'Python', 'Python', 'Python', 'Python')\n"
     ]
    }
   ],
   "source": [
    "#not modifying\n",
    "rep1 = (\"Python\", )\n",
    "\n",
    "print(rep1*10)"
   ]
  },
  {
   "cell_type": "code",
   "execution_count": 23,
   "id": "auburn-partnership",
   "metadata": {},
   "outputs": [
    {
     "name": "stdout",
     "output_type": "stream",
     "text": [
      "('S', 'u', 'b', 'h', 'a', 'y', 'a', 'n', ' ', 'D', 'a', 's')\n"
     ]
    }
   ],
   "source": [
    "#UNPACKING IN TUPLE\n",
    "tuple2 = tuple(\"Subhayan Das\")\n",
    "print(tuple2)"
   ]
  },
  {
   "cell_type": "code",
   "execution_count": 26,
   "id": "threatened-associate",
   "metadata": {},
   "outputs": [
    {
     "name": "stdout",
     "output_type": "stream",
     "text": [
      "(1, 2, 3, 4, 5, 6)\n"
     ]
    }
   ],
   "source": [
    "num = (1,2,3,4,5,6)\n",
    "print(num)\n",
    "a,b,c,d,e,f = num"
   ]
  },
  {
   "cell_type": "code",
   "execution_count": 27,
   "id": "manufactured-beijing",
   "metadata": {},
   "outputs": [
    {
     "name": "stdout",
     "output_type": "stream",
     "text": [
      "1 2 3 4 5 6\n"
     ]
    }
   ],
   "source": [
    "print(a,b,c,d,e,f)"
   ]
  },
  {
   "cell_type": "code",
   "execution_count": 28,
   "id": "twelve-water",
   "metadata": {},
   "outputs": [
    {
     "name": "stdout",
     "output_type": "stream",
     "text": [
      "(1, 2, 3, 4, 5)\n"
     ]
    }
   ],
   "source": [
    "#DELETING A TUPLE\n",
    "print(tuple1)"
   ]
  },
  {
   "cell_type": "code",
   "execution_count": 29,
   "id": "demographic-meter",
   "metadata": {},
   "outputs": [],
   "source": [
    "del tuple1"
   ]
  },
  {
   "cell_type": "code",
   "execution_count": 30,
   "id": "concerned-minutes",
   "metadata": {},
   "outputs": [
    {
     "ename": "NameError",
     "evalue": "name 'tuple1' is not defined",
     "output_type": "error",
     "traceback": [
      "\u001b[1;31m---------------------------------------------------------------------------\u001b[0m",
      "\u001b[1;31mNameError\u001b[0m                                 Traceback (most recent call last)",
      "\u001b[1;32m<ipython-input-30-e27b56724cb0>\u001b[0m in \u001b[0;36m<module>\u001b[1;34m\u001b[0m\n\u001b[1;32m----> 1\u001b[1;33m \u001b[0mprint\u001b[0m\u001b[1;33m(\u001b[0m\u001b[0mtuple1\u001b[0m\u001b[1;33m)\u001b[0m\u001b[1;33m\u001b[0m\u001b[1;33m\u001b[0m\u001b[0m\n\u001b[0m",
      "\u001b[1;31mNameError\u001b[0m: name 'tuple1' is not defined"
     ]
    }
   ],
   "source": [
    "print(tuple1)"
   ]
  },
  {
   "cell_type": "code",
   "execution_count": null,
   "id": "mighty-constitutional",
   "metadata": {},
   "outputs": [],
   "source": []
  }
 ],
 "metadata": {
  "kernelspec": {
   "display_name": "Python 3",
   "language": "python",
   "name": "python3"
  },
  "language_info": {
   "codemirror_mode": {
    "name": "ipython",
    "version": 3
   },
   "file_extension": ".py",
   "mimetype": "text/x-python",
   "name": "python",
   "nbconvert_exporter": "python",
   "pygments_lexer": "ipython3",
   "version": "3.8.10"
  }
 },
 "nbformat": 4,
 "nbformat_minor": 5
}
